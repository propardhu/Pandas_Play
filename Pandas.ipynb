{
 "cells": [
  {
   "cell_type": "code",
   "execution_count": 1,
   "id": "d3c9c228",
   "metadata": {},
   "outputs": [],
   "source": [
    "import numpy as np\n",
    "import pandas as pd"
   ]
  },
  {
   "cell_type": "markdown",
   "id": "fcf0fc40",
   "metadata": {},
   "source": [
    "## OBJECT Creation"
   ]
  },
  {
   "cell_type": "code",
   "execution_count": 34,
   "id": "a668b8a0",
   "metadata": {},
   "outputs": [
    {
     "name": "stdout",
     "output_type": "stream",
     "text": [
      "0    1.0\n",
      "1    3.0\n",
      "2    4.0\n",
      "3    5.0\n",
      "4    6.0\n",
      "5    NaN\n",
      "6    8.0\n",
      "dtype: float64\n"
     ]
    }
   ],
   "source": [
    "s = pd.Series([1,3,4,5,6,np.nan,8]) # Series by passing list\n",
    "print(s)"
   ]
  },
  {
   "cell_type": "code",
   "execution_count": 35,
   "id": "df7dbf79",
   "metadata": {},
   "outputs": [
    {
     "name": "stdout",
     "output_type": "stream",
     "text": [
      "DatetimeIndex(['2022-01-01', '2022-01-02', '2022-01-03', '2022-01-04',\n",
      "               '2022-01-05', '2022-01-06'],\n",
      "              dtype='datetime64[ns]', freq='D')\n"
     ]
    }
   ],
   "source": [
    "dates = pd.date_range(\"20220101\",periods=6)\n",
    "print(dates)"
   ]
  },
  {
   "cell_type": "code",
   "execution_count": 36,
   "id": "8a1754e5",
   "metadata": {},
   "outputs": [
    {
     "name": "stdout",
     "output_type": "stream",
     "text": [
      "                   A         B         C         D\n",
      "2022-01-01 -0.352191  0.698909  0.732387 -0.972465\n",
      "2022-01-02  0.650595  0.651618  0.035792  0.656556\n",
      "2022-01-03  2.332927  0.866211 -0.539567  1.078459\n",
      "2022-01-04 -0.352783  0.000415  0.320556  1.974563\n",
      "2022-01-05  0.904199 -0.038232 -1.450394 -0.450577\n",
      "2022-01-06  0.702843  0.877232  0.552972 -0.335785\n"
     ]
    }
   ],
   "source": [
    "df = pd.DataFrame(np.random.randn(6,4), index=dates, columns=list(\"ABCD\"))\n",
    "print(df) # data frame"
   ]
  },
  {
   "cell_type": "code",
   "execution_count": 37,
   "id": "bb169249",
   "metadata": {},
   "outputs": [
    {
     "name": "stdout",
     "output_type": "stream",
     "text": [
      "     A          B    C  D      E    F\n",
      "0  1.0 2013-01-02  1.0  3   test  foo\n",
      "1  1.0 2013-01-02  1.0  3  train  foo\n",
      "2  1.0 2013-01-02  1.0  3   test  foo\n",
      "3  1.0 2013-01-02  1.0  3  train  foo\n"
     ]
    }
   ],
   "source": [
    "df2 = pd.DataFrame(\n",
    "    {\n",
    "        \"A\": 1.0,\n",
    "        \"B\": pd.Timestamp(\"20130102\"),\n",
    "        \"C\": pd.Series(1, index=list(range(4)), dtype=\"float32\"),\n",
    "        \"D\": np.array([3] * 4, dtype=\"int32\"),\n",
    "        \"E\": pd.Categorical([\"test\", \"train\", \"test\", \"train\"]),\n",
    "        \"F\": \"foo\",\n",
    "    }\n",
    ")\n",
    "print(df2)"
   ]
  },
  {
   "cell_type": "markdown",
   "id": "55098f9f",
   "metadata": {},
   "source": [
    "## Viewing Data"
   ]
  },
  {
   "cell_type": "code",
   "execution_count": 38,
   "id": "a0b369c1",
   "metadata": {},
   "outputs": [
    {
     "name": "stdout",
     "output_type": "stream",
     "text": [
      "                   A         B         C         D\n",
      "2022-01-01 -0.352191  0.698909  0.732387 -0.972465\n",
      "2022-01-02  0.650595  0.651618  0.035792  0.656556\n",
      "2022-01-03  2.332927  0.866211 -0.539567  1.078459\n",
      "2022-01-04 -0.352783  0.000415  0.320556  1.974563\n",
      "2022-01-05  0.904199 -0.038232 -1.450394 -0.450577\n"
     ]
    }
   ],
   "source": [
    "print(df.head()) # first few records"
   ]
  },
  {
   "cell_type": "code",
   "execution_count": 39,
   "id": "91615046",
   "metadata": {},
   "outputs": [
    {
     "name": "stdout",
     "output_type": "stream",
     "text": [
      "                   A         B         C         D\n",
      "2022-01-02  0.650595  0.651618  0.035792  0.656556\n",
      "2022-01-03  2.332927  0.866211 -0.539567  1.078459\n",
      "2022-01-04 -0.352783  0.000415  0.320556  1.974563\n",
      "2022-01-05  0.904199 -0.038232 -1.450394 -0.450577\n",
      "2022-01-06  0.702843  0.877232  0.552972 -0.335785\n"
     ]
    }
   ],
   "source": [
    "print(df.tail()) # last few records"
   ]
  },
  {
   "cell_type": "code",
   "execution_count": 40,
   "id": "f45d73da",
   "metadata": {},
   "outputs": [
    {
     "name": "stdout",
     "output_type": "stream",
     "text": [
      "DatetimeIndex(['2022-01-01', '2022-01-02', '2022-01-03', '2022-01-04',\n",
      "               '2022-01-05', '2022-01-06'],\n",
      "              dtype='datetime64[ns]', freq='D')\n",
      "Index(['A', 'B', 'C', 'D'], dtype='object')\n"
     ]
    }
   ],
   "source": [
    "print(df.index)\n",
    "print(df.columns)"
   ]
  },
  {
   "cell_type": "code",
   "execution_count": 41,
   "id": "c3d117e9",
   "metadata": {},
   "outputs": [
    {
     "name": "stdout",
     "output_type": "stream",
     "text": [
      "[[-3.52191182e-01  6.98909317e-01  7.32386805e-01 -9.72464984e-01]\n",
      " [ 6.50594743e-01  6.51617681e-01  3.57917261e-02  6.56556440e-01]\n",
      " [ 2.33292692e+00  8.66210872e-01 -5.39567213e-01  1.07845948e+00]\n",
      " [-3.52783066e-01  4.15391594e-04  3.20556314e-01  1.97456309e+00]\n",
      " [ 9.04198960e-01 -3.82315326e-02 -1.45039358e+00 -4.50577316e-01]\n",
      " [ 7.02843203e-01  8.77231574e-01  5.52971685e-01 -3.35784886e-01]]\n"
     ]
    }
   ],
   "source": [
    "print(df.to_numpy()) # will not include index and columns."
   ]
  },
  {
   "cell_type": "code",
   "execution_count": 42,
   "id": "0a63335e",
   "metadata": {},
   "outputs": [
    {
     "name": "stdout",
     "output_type": "stream",
     "text": [
      "              A         B         C         D\n",
      "count  6.000000  6.000000  6.000000  6.000000\n",
      "mean   0.647598  0.509359 -0.058042  0.325125\n",
      "std    0.990917  0.418980  0.814956  1.106369\n",
      "min   -0.352783 -0.038232 -1.450394 -0.972465\n",
      "25%   -0.101495  0.163216 -0.395727 -0.421879\n",
      "50%    0.676719  0.675263  0.178174  0.160386\n",
      "75%    0.853860  0.824385  0.494868  0.972984\n",
      "max    2.332927  0.877232  0.732387  1.974563\n"
     ]
    }
   ],
   "source": [
    "print(df.describe()) # statistics of data"
   ]
  },
  {
   "cell_type": "code",
   "execution_count": 43,
   "id": "6a32945b",
   "metadata": {},
   "outputs": [
    {
     "name": "stdout",
     "output_type": "stream",
     "text": [
      "   2022-01-01  2022-01-02  2022-01-03  2022-01-04  2022-01-05  2022-01-06\n",
      "A   -0.352191    0.650595    2.332927   -0.352783    0.904199    0.702843\n",
      "B    0.698909    0.651618    0.866211    0.000415   -0.038232    0.877232\n",
      "C    0.732387    0.035792   -0.539567    0.320556   -1.450394    0.552972\n",
      "D   -0.972465    0.656556    1.078459    1.974563   -0.450577   -0.335785\n"
     ]
    }
   ],
   "source": [
    "print(df.T) # Transposing "
   ]
  },
  {
   "cell_type": "markdown",
   "id": "2e80aa62",
   "metadata": {},
   "source": [
    "## Sorting DF "
   ]
  },
  {
   "cell_type": "code",
   "execution_count": 44,
   "id": "f2bebc48",
   "metadata": {},
   "outputs": [
    {
     "name": "stdout",
     "output_type": "stream",
     "text": [
      "                   D         C         B         A\n",
      "2022-01-01 -0.972465  0.732387  0.698909 -0.352191\n",
      "2022-01-02  0.656556  0.035792  0.651618  0.650595\n",
      "2022-01-03  1.078459 -0.539567  0.866211  2.332927\n",
      "2022-01-04  1.974563  0.320556  0.000415 -0.352783\n",
      "2022-01-05 -0.450577 -1.450394 -0.038232  0.904199\n",
      "2022-01-06 -0.335785  0.552972  0.877232  0.702843\n"
     ]
    }
   ],
   "source": [
    "print(df.sort_index(axis=1, ascending=False))"
   ]
  },
  {
   "cell_type": "code",
   "execution_count": 45,
   "id": "897396f3",
   "metadata": {},
   "outputs": [
    {
     "name": "stdout",
     "output_type": "stream",
     "text": [
      "                   A         B         C         D\n",
      "2022-01-05  0.904199 -0.038232 -1.450394 -0.450577\n",
      "2022-01-04 -0.352783  0.000415  0.320556  1.974563\n",
      "2022-01-02  0.650595  0.651618  0.035792  0.656556\n",
      "2022-01-01 -0.352191  0.698909  0.732387 -0.972465\n",
      "2022-01-03  2.332927  0.866211 -0.539567  1.078459\n",
      "2022-01-06  0.702843  0.877232  0.552972 -0.335785\n"
     ]
    }
   ],
   "source": [
    "print(df.sort_values(by=\"B\"))"
   ]
  },
  {
   "cell_type": "markdown",
   "id": "187f1846",
   "metadata": {},
   "source": [
    "## Selection"
   ]
  },
  {
   "cell_type": "code",
   "execution_count": 46,
   "id": "0fda32f5",
   "metadata": {},
   "outputs": [
    {
     "name": "stdout",
     "output_type": "stream",
     "text": [
      "2022-01-01   -0.352191\n",
      "2022-01-02    0.650595\n",
      "2022-01-03    2.332927\n",
      "2022-01-04   -0.352783\n",
      "2022-01-05    0.904199\n",
      "2022-01-06    0.702843\n",
      "Freq: D, Name: A, dtype: float64\n"
     ]
    }
   ],
   "source": [
    "print(df[\"A\"])"
   ]
  },
  {
   "cell_type": "code",
   "execution_count": 47,
   "id": "88073ad9",
   "metadata": {},
   "outputs": [
    {
     "name": "stdout",
     "output_type": "stream",
     "text": [
      "                   A         B         C         D\n",
      "2022-01-01 -0.352191  0.698909  0.732387 -0.972465\n",
      "2022-01-02  0.650595  0.651618  0.035792  0.656556\n",
      "2022-01-03  2.332927  0.866211 -0.539567  1.078459\n"
     ]
    }
   ],
   "source": [
    "print(df[0:3])"
   ]
  },
  {
   "cell_type": "code",
   "execution_count": 48,
   "id": "7234244f",
   "metadata": {},
   "outputs": [
    {
     "name": "stdout",
     "output_type": "stream",
     "text": [
      "                   A         B         C         D\n",
      "2022-01-02  0.650595  0.651618  0.035792  0.656556\n",
      "2022-01-03  2.332927  0.866211 -0.539567  1.078459\n",
      "2022-01-04 -0.352783  0.000415  0.320556  1.974563\n",
      "2022-01-05  0.904199 -0.038232 -1.450394 -0.450577\n"
     ]
    }
   ],
   "source": [
    "print(df[\"20220102\":\"20220105\"])"
   ]
  },
  {
   "cell_type": "code",
   "execution_count": 49,
   "id": "55d1aec7",
   "metadata": {},
   "outputs": [
    {
     "data": {
      "text/plain": [
       "A   -0.352191\n",
       "B    0.698909\n",
       "C    0.732387\n",
       "D   -0.972465\n",
       "Name: 2022-01-01 00:00:00, dtype: float64"
      ]
     },
     "execution_count": 49,
     "metadata": {},
     "output_type": "execute_result"
    }
   ],
   "source": [
    "# By label\n",
    "df.loc[dates[0]]"
   ]
  },
  {
   "cell_type": "code",
   "execution_count": 50,
   "id": "3a7408cf",
   "metadata": {},
   "outputs": [
    {
     "data": {
      "text/html": [
       "<div>\n",
       "<style scoped>\n",
       "    .dataframe tbody tr th:only-of-type {\n",
       "        vertical-align: middle;\n",
       "    }\n",
       "\n",
       "    .dataframe tbody tr th {\n",
       "        vertical-align: top;\n",
       "    }\n",
       "\n",
       "    .dataframe thead th {\n",
       "        text-align: right;\n",
       "    }\n",
       "</style>\n",
       "<table border=\"1\" class=\"dataframe\">\n",
       "  <thead>\n",
       "    <tr style=\"text-align: right;\">\n",
       "      <th></th>\n",
       "      <th>A</th>\n",
       "      <th>B</th>\n",
       "    </tr>\n",
       "  </thead>\n",
       "  <tbody>\n",
       "    <tr>\n",
       "      <th>2022-01-01</th>\n",
       "      <td>-0.352191</td>\n",
       "      <td>0.698909</td>\n",
       "    </tr>\n",
       "    <tr>\n",
       "      <th>2022-01-02</th>\n",
       "      <td>0.650595</td>\n",
       "      <td>0.651618</td>\n",
       "    </tr>\n",
       "    <tr>\n",
       "      <th>2022-01-03</th>\n",
       "      <td>2.332927</td>\n",
       "      <td>0.866211</td>\n",
       "    </tr>\n",
       "    <tr>\n",
       "      <th>2022-01-04</th>\n",
       "      <td>-0.352783</td>\n",
       "      <td>0.000415</td>\n",
       "    </tr>\n",
       "    <tr>\n",
       "      <th>2022-01-05</th>\n",
       "      <td>0.904199</td>\n",
       "      <td>-0.038232</td>\n",
       "    </tr>\n",
       "    <tr>\n",
       "      <th>2022-01-06</th>\n",
       "      <td>0.702843</td>\n",
       "      <td>0.877232</td>\n",
       "    </tr>\n",
       "  </tbody>\n",
       "</table>\n",
       "</div>"
      ],
      "text/plain": [
       "                   A         B\n",
       "2022-01-01 -0.352191  0.698909\n",
       "2022-01-02  0.650595  0.651618\n",
       "2022-01-03  2.332927  0.866211\n",
       "2022-01-04 -0.352783  0.000415\n",
       "2022-01-05  0.904199 -0.038232\n",
       "2022-01-06  0.702843  0.877232"
      ]
     },
     "execution_count": 50,
     "metadata": {},
     "output_type": "execute_result"
    }
   ],
   "source": [
    "df.loc[:, [\"A\", \"B\"]] # By label"
   ]
  },
  {
   "cell_type": "code",
   "execution_count": 51,
   "id": "410c5db2",
   "metadata": {},
   "outputs": [
    {
     "data": {
      "text/plain": [
       "A   -0.352783\n",
       "B    0.000415\n",
       "C    0.320556\n",
       "D    1.974563\n",
       "Name: 2022-01-04 00:00:00, dtype: float64"
      ]
     },
     "execution_count": 51,
     "metadata": {},
     "output_type": "execute_result"
    }
   ],
   "source": [
    "df.iloc[3] # by position"
   ]
  },
  {
   "cell_type": "code",
   "execution_count": 52,
   "id": "fd9cfcd1",
   "metadata": {},
   "outputs": [
    {
     "data": {
      "text/html": [
       "<div>\n",
       "<style scoped>\n",
       "    .dataframe tbody tr th:only-of-type {\n",
       "        vertical-align: middle;\n",
       "    }\n",
       "\n",
       "    .dataframe tbody tr th {\n",
       "        vertical-align: top;\n",
       "    }\n",
       "\n",
       "    .dataframe thead th {\n",
       "        text-align: right;\n",
       "    }\n",
       "</style>\n",
       "<table border=\"1\" class=\"dataframe\">\n",
       "  <thead>\n",
       "    <tr style=\"text-align: right;\">\n",
       "      <th></th>\n",
       "      <th>A</th>\n",
       "      <th>B</th>\n",
       "    </tr>\n",
       "  </thead>\n",
       "  <tbody>\n",
       "    <tr>\n",
       "      <th>2022-01-04</th>\n",
       "      <td>-0.352783</td>\n",
       "      <td>0.000415</td>\n",
       "    </tr>\n",
       "    <tr>\n",
       "      <th>2022-01-05</th>\n",
       "      <td>0.904199</td>\n",
       "      <td>-0.038232</td>\n",
       "    </tr>\n",
       "  </tbody>\n",
       "</table>\n",
       "</div>"
      ],
      "text/plain": [
       "                   A         B\n",
       "2022-01-04 -0.352783  0.000415\n",
       "2022-01-05  0.904199 -0.038232"
      ]
     },
     "execution_count": 52,
     "metadata": {},
     "output_type": "execute_result"
    }
   ],
   "source": [
    "df.iloc[3:5, 0:2] # by position"
   ]
  },
  {
   "cell_type": "markdown",
   "id": "26d84e27",
   "metadata": {},
   "source": [
    "## Boolean indexing"
   ]
  },
  {
   "cell_type": "code",
   "execution_count": 53,
   "id": "de73de39",
   "metadata": {},
   "outputs": [
    {
     "data": {
      "text/html": [
       "<div>\n",
       "<style scoped>\n",
       "    .dataframe tbody tr th:only-of-type {\n",
       "        vertical-align: middle;\n",
       "    }\n",
       "\n",
       "    .dataframe tbody tr th {\n",
       "        vertical-align: top;\n",
       "    }\n",
       "\n",
       "    .dataframe thead th {\n",
       "        text-align: right;\n",
       "    }\n",
       "</style>\n",
       "<table border=\"1\" class=\"dataframe\">\n",
       "  <thead>\n",
       "    <tr style=\"text-align: right;\">\n",
       "      <th></th>\n",
       "      <th>A</th>\n",
       "      <th>B</th>\n",
       "      <th>C</th>\n",
       "      <th>D</th>\n",
       "    </tr>\n",
       "  </thead>\n",
       "  <tbody>\n",
       "    <tr>\n",
       "      <th>2022-01-02</th>\n",
       "      <td>0.650595</td>\n",
       "      <td>0.651618</td>\n",
       "      <td>0.035792</td>\n",
       "      <td>0.656556</td>\n",
       "    </tr>\n",
       "    <tr>\n",
       "      <th>2022-01-03</th>\n",
       "      <td>2.332927</td>\n",
       "      <td>0.866211</td>\n",
       "      <td>-0.539567</td>\n",
       "      <td>1.078459</td>\n",
       "    </tr>\n",
       "    <tr>\n",
       "      <th>2022-01-05</th>\n",
       "      <td>0.904199</td>\n",
       "      <td>-0.038232</td>\n",
       "      <td>-1.450394</td>\n",
       "      <td>-0.450577</td>\n",
       "    </tr>\n",
       "    <tr>\n",
       "      <th>2022-01-06</th>\n",
       "      <td>0.702843</td>\n",
       "      <td>0.877232</td>\n",
       "      <td>0.552972</td>\n",
       "      <td>-0.335785</td>\n",
       "    </tr>\n",
       "  </tbody>\n",
       "</table>\n",
       "</div>"
      ],
      "text/plain": [
       "                   A         B         C         D\n",
       "2022-01-02  0.650595  0.651618  0.035792  0.656556\n",
       "2022-01-03  2.332927  0.866211 -0.539567  1.078459\n",
       "2022-01-05  0.904199 -0.038232 -1.450394 -0.450577\n",
       "2022-01-06  0.702843  0.877232  0.552972 -0.335785"
      ]
     },
     "execution_count": 53,
     "metadata": {},
     "output_type": "execute_result"
    }
   ],
   "source": [
    "df[df[\"A\"] > 0]"
   ]
  },
  {
   "cell_type": "code",
   "execution_count": 54,
   "id": "318ced4f",
   "metadata": {},
   "outputs": [
    {
     "data": {
      "text/html": [
       "<div>\n",
       "<style scoped>\n",
       "    .dataframe tbody tr th:only-of-type {\n",
       "        vertical-align: middle;\n",
       "    }\n",
       "\n",
       "    .dataframe tbody tr th {\n",
       "        vertical-align: top;\n",
       "    }\n",
       "\n",
       "    .dataframe thead th {\n",
       "        text-align: right;\n",
       "    }\n",
       "</style>\n",
       "<table border=\"1\" class=\"dataframe\">\n",
       "  <thead>\n",
       "    <tr style=\"text-align: right;\">\n",
       "      <th></th>\n",
       "      <th>A</th>\n",
       "      <th>B</th>\n",
       "      <th>C</th>\n",
       "      <th>D</th>\n",
       "    </tr>\n",
       "  </thead>\n",
       "  <tbody>\n",
       "    <tr>\n",
       "      <th>2022-01-01</th>\n",
       "      <td>NaN</td>\n",
       "      <td>0.698909</td>\n",
       "      <td>0.732387</td>\n",
       "      <td>NaN</td>\n",
       "    </tr>\n",
       "    <tr>\n",
       "      <th>2022-01-02</th>\n",
       "      <td>0.650595</td>\n",
       "      <td>0.651618</td>\n",
       "      <td>0.035792</td>\n",
       "      <td>0.656556</td>\n",
       "    </tr>\n",
       "    <tr>\n",
       "      <th>2022-01-03</th>\n",
       "      <td>2.332927</td>\n",
       "      <td>0.866211</td>\n",
       "      <td>NaN</td>\n",
       "      <td>1.078459</td>\n",
       "    </tr>\n",
       "    <tr>\n",
       "      <th>2022-01-04</th>\n",
       "      <td>NaN</td>\n",
       "      <td>0.000415</td>\n",
       "      <td>0.320556</td>\n",
       "      <td>1.974563</td>\n",
       "    </tr>\n",
       "    <tr>\n",
       "      <th>2022-01-05</th>\n",
       "      <td>0.904199</td>\n",
       "      <td>NaN</td>\n",
       "      <td>NaN</td>\n",
       "      <td>NaN</td>\n",
       "    </tr>\n",
       "    <tr>\n",
       "      <th>2022-01-06</th>\n",
       "      <td>0.702843</td>\n",
       "      <td>0.877232</td>\n",
       "      <td>0.552972</td>\n",
       "      <td>NaN</td>\n",
       "    </tr>\n",
       "  </tbody>\n",
       "</table>\n",
       "</div>"
      ],
      "text/plain": [
       "                   A         B         C         D\n",
       "2022-01-01       NaN  0.698909  0.732387       NaN\n",
       "2022-01-02  0.650595  0.651618  0.035792  0.656556\n",
       "2022-01-03  2.332927  0.866211       NaN  1.078459\n",
       "2022-01-04       NaN  0.000415  0.320556  1.974563\n",
       "2022-01-05  0.904199       NaN       NaN       NaN\n",
       "2022-01-06  0.702843  0.877232  0.552972       NaN"
      ]
     },
     "execution_count": 54,
     "metadata": {},
     "output_type": "execute_result"
    }
   ],
   "source": [
    "df[df > 0]"
   ]
  },
  {
   "cell_type": "code",
   "execution_count": 55,
   "id": "32a4da2f",
   "metadata": {},
   "outputs": [
    {
     "name": "stdout",
     "output_type": "stream",
     "text": [
      "                   A         B         C         D      E\n",
      "2022-01-01 -0.352191  0.698909  0.732387 -0.972465    one\n",
      "2022-01-02  0.650595  0.651618  0.035792  0.656556    one\n",
      "2022-01-03  2.332927  0.866211 -0.539567  1.078459    two\n",
      "2022-01-04 -0.352783  0.000415  0.320556  1.974563  three\n",
      "2022-01-05  0.904199 -0.038232 -1.450394 -0.450577   four\n",
      "2022-01-06  0.702843  0.877232  0.552972 -0.335785  three\n"
     ]
    },
    {
     "data": {
      "text/html": [
       "<div>\n",
       "<style scoped>\n",
       "    .dataframe tbody tr th:only-of-type {\n",
       "        vertical-align: middle;\n",
       "    }\n",
       "\n",
       "    .dataframe tbody tr th {\n",
       "        vertical-align: top;\n",
       "    }\n",
       "\n",
       "    .dataframe thead th {\n",
       "        text-align: right;\n",
       "    }\n",
       "</style>\n",
       "<table border=\"1\" class=\"dataframe\">\n",
       "  <thead>\n",
       "    <tr style=\"text-align: right;\">\n",
       "      <th></th>\n",
       "      <th>A</th>\n",
       "      <th>B</th>\n",
       "      <th>C</th>\n",
       "      <th>D</th>\n",
       "      <th>E</th>\n",
       "    </tr>\n",
       "  </thead>\n",
       "  <tbody>\n",
       "    <tr>\n",
       "      <th>2022-01-03</th>\n",
       "      <td>2.332927</td>\n",
       "      <td>0.866211</td>\n",
       "      <td>-0.539567</td>\n",
       "      <td>1.078459</td>\n",
       "      <td>two</td>\n",
       "    </tr>\n",
       "    <tr>\n",
       "      <th>2022-01-05</th>\n",
       "      <td>0.904199</td>\n",
       "      <td>-0.038232</td>\n",
       "      <td>-1.450394</td>\n",
       "      <td>-0.450577</td>\n",
       "      <td>four</td>\n",
       "    </tr>\n",
       "  </tbody>\n",
       "</table>\n",
       "</div>"
      ],
      "text/plain": [
       "                   A         B         C         D     E\n",
       "2022-01-03  2.332927  0.866211 -0.539567  1.078459   two\n",
       "2022-01-05  0.904199 -0.038232 -1.450394 -0.450577  four"
      ]
     },
     "execution_count": 55,
     "metadata": {},
     "output_type": "execute_result"
    }
   ],
   "source": [
    "df2 = df.copy()\n",
    "df2[\"E\"] = [\"one\", \"one\", \"two\", \"three\", \"four\", \"three\"]\n",
    "print(df2)\n",
    "df2[df2[\"E\"].isin([\"two\", \"four\"])]"
   ]
  },
  {
   "cell_type": "markdown",
   "id": "decba793",
   "metadata": {},
   "source": [
    "## Setting"
   ]
  },
  {
   "cell_type": "code",
   "execution_count": 56,
   "id": "e5d9b978",
   "metadata": {},
   "outputs": [
    {
     "data": {
      "text/plain": [
       "2013-01-02    1\n",
       "2013-01-03    2\n",
       "2013-01-04    3\n",
       "2013-01-05    4\n",
       "2013-01-06    5\n",
       "2013-01-07    6\n",
       "Freq: D, dtype: int64"
      ]
     },
     "execution_count": 56,
     "metadata": {},
     "output_type": "execute_result"
    }
   ],
   "source": [
    "s1 = pd.Series([1, 2, 3, 4, 5, 6], index=pd.date_range(\"20130102\", periods=6))\n",
    "s1"
   ]
  },
  {
   "cell_type": "code",
   "execution_count": 58,
   "id": "3b77e8da",
   "metadata": {},
   "outputs": [
    {
     "data": {
      "text/html": [
       "<div>\n",
       "<style scoped>\n",
       "    .dataframe tbody tr th:only-of-type {\n",
       "        vertical-align: middle;\n",
       "    }\n",
       "\n",
       "    .dataframe tbody tr th {\n",
       "        vertical-align: top;\n",
       "    }\n",
       "\n",
       "    .dataframe thead th {\n",
       "        text-align: right;\n",
       "    }\n",
       "</style>\n",
       "<table border=\"1\" class=\"dataframe\">\n",
       "  <thead>\n",
       "    <tr style=\"text-align: right;\">\n",
       "      <th></th>\n",
       "      <th>A</th>\n",
       "      <th>B</th>\n",
       "      <th>C</th>\n",
       "      <th>D</th>\n",
       "      <th>F</th>\n",
       "    </tr>\n",
       "  </thead>\n",
       "  <tbody>\n",
       "    <tr>\n",
       "      <th>2022-01-01</th>\n",
       "      <td>0.000000</td>\n",
       "      <td>0.000000</td>\n",
       "      <td>0.732387</td>\n",
       "      <td>5</td>\n",
       "      <td>NaN</td>\n",
       "    </tr>\n",
       "    <tr>\n",
       "      <th>2022-01-02</th>\n",
       "      <td>0.650595</td>\n",
       "      <td>0.651618</td>\n",
       "      <td>0.035792</td>\n",
       "      <td>5</td>\n",
       "      <td>NaN</td>\n",
       "    </tr>\n",
       "    <tr>\n",
       "      <th>2022-01-03</th>\n",
       "      <td>2.332927</td>\n",
       "      <td>0.866211</td>\n",
       "      <td>-0.539567</td>\n",
       "      <td>5</td>\n",
       "      <td>NaN</td>\n",
       "    </tr>\n",
       "    <tr>\n",
       "      <th>2022-01-04</th>\n",
       "      <td>-0.352783</td>\n",
       "      <td>0.000415</td>\n",
       "      <td>0.320556</td>\n",
       "      <td>5</td>\n",
       "      <td>NaN</td>\n",
       "    </tr>\n",
       "    <tr>\n",
       "      <th>2022-01-05</th>\n",
       "      <td>0.904199</td>\n",
       "      <td>-0.038232</td>\n",
       "      <td>-1.450394</td>\n",
       "      <td>5</td>\n",
       "      <td>NaN</td>\n",
       "    </tr>\n",
       "    <tr>\n",
       "      <th>2022-01-06</th>\n",
       "      <td>0.702843</td>\n",
       "      <td>0.877232</td>\n",
       "      <td>0.552972</td>\n",
       "      <td>5</td>\n",
       "      <td>NaN</td>\n",
       "    </tr>\n",
       "  </tbody>\n",
       "</table>\n",
       "</div>"
      ],
      "text/plain": [
       "                   A         B         C  D   F\n",
       "2022-01-01  0.000000  0.000000  0.732387  5 NaN\n",
       "2022-01-02  0.650595  0.651618  0.035792  5 NaN\n",
       "2022-01-03  2.332927  0.866211 -0.539567  5 NaN\n",
       "2022-01-04 -0.352783  0.000415  0.320556  5 NaN\n",
       "2022-01-05  0.904199 -0.038232 -1.450394  5 NaN\n",
       "2022-01-06  0.702843  0.877232  0.552972  5 NaN"
      ]
     },
     "execution_count": 58,
     "metadata": {},
     "output_type": "execute_result"
    }
   ],
   "source": [
    "df[\"F\"] = s1\n",
    "df.at[dates[0], \"A\"] = 0\n",
    "df.iat[0, 1] = 0\n",
    "df.loc[:, \"D\"] = np.array([5] * len(df))\n",
    "df"
   ]
  },
  {
   "cell_type": "code",
   "execution_count": 59,
   "id": "622eb232",
   "metadata": {},
   "outputs": [
    {
     "data": {
      "text/html": [
       "<div>\n",
       "<style scoped>\n",
       "    .dataframe tbody tr th:only-of-type {\n",
       "        vertical-align: middle;\n",
       "    }\n",
       "\n",
       "    .dataframe tbody tr th {\n",
       "        vertical-align: top;\n",
       "    }\n",
       "\n",
       "    .dataframe thead th {\n",
       "        text-align: right;\n",
       "    }\n",
       "</style>\n",
       "<table border=\"1\" class=\"dataframe\">\n",
       "  <thead>\n",
       "    <tr style=\"text-align: right;\">\n",
       "      <th></th>\n",
       "      <th>A</th>\n",
       "      <th>B</th>\n",
       "      <th>C</th>\n",
       "      <th>D</th>\n",
       "      <th>F</th>\n",
       "      <th>E</th>\n",
       "    </tr>\n",
       "  </thead>\n",
       "  <tbody>\n",
       "    <tr>\n",
       "      <th>2022-01-01</th>\n",
       "      <td>0.000000</td>\n",
       "      <td>0.000000</td>\n",
       "      <td>0.732387</td>\n",
       "      <td>5</td>\n",
       "      <td>NaN</td>\n",
       "      <td>1.0</td>\n",
       "    </tr>\n",
       "    <tr>\n",
       "      <th>2022-01-02</th>\n",
       "      <td>0.650595</td>\n",
       "      <td>0.651618</td>\n",
       "      <td>0.035792</td>\n",
       "      <td>5</td>\n",
       "      <td>NaN</td>\n",
       "      <td>1.0</td>\n",
       "    </tr>\n",
       "    <tr>\n",
       "      <th>2022-01-03</th>\n",
       "      <td>2.332927</td>\n",
       "      <td>0.866211</td>\n",
       "      <td>-0.539567</td>\n",
       "      <td>5</td>\n",
       "      <td>NaN</td>\n",
       "      <td>NaN</td>\n",
       "    </tr>\n",
       "    <tr>\n",
       "      <th>2022-01-04</th>\n",
       "      <td>-0.352783</td>\n",
       "      <td>0.000415</td>\n",
       "      <td>0.320556</td>\n",
       "      <td>5</td>\n",
       "      <td>NaN</td>\n",
       "      <td>NaN</td>\n",
       "    </tr>\n",
       "  </tbody>\n",
       "</table>\n",
       "</div>"
      ],
      "text/plain": [
       "                   A         B         C  D   F    E\n",
       "2022-01-01  0.000000  0.000000  0.732387  5 NaN  1.0\n",
       "2022-01-02  0.650595  0.651618  0.035792  5 NaN  1.0\n",
       "2022-01-03  2.332927  0.866211 -0.539567  5 NaN  NaN\n",
       "2022-01-04 -0.352783  0.000415  0.320556  5 NaN  NaN"
      ]
     },
     "execution_count": 59,
     "metadata": {},
     "output_type": "execute_result"
    }
   ],
   "source": [
    "# Missing values\n",
    "df1 = df.reindex(index=dates[0:4], columns=list(df.columns) + [\"E\"])\n",
    "df1.loc[dates[0] : dates[1], \"E\"] = 1\n",
    "df1"
   ]
  },
  {
   "cell_type": "code",
   "execution_count": 60,
   "id": "3b9f3d34",
   "metadata": {},
   "outputs": [
    {
     "data": {
      "text/html": [
       "<div>\n",
       "<style scoped>\n",
       "    .dataframe tbody tr th:only-of-type {\n",
       "        vertical-align: middle;\n",
       "    }\n",
       "\n",
       "    .dataframe tbody tr th {\n",
       "        vertical-align: top;\n",
       "    }\n",
       "\n",
       "    .dataframe thead th {\n",
       "        text-align: right;\n",
       "    }\n",
       "</style>\n",
       "<table border=\"1\" class=\"dataframe\">\n",
       "  <thead>\n",
       "    <tr style=\"text-align: right;\">\n",
       "      <th></th>\n",
       "      <th>A</th>\n",
       "      <th>B</th>\n",
       "      <th>C</th>\n",
       "      <th>D</th>\n",
       "      <th>F</th>\n",
       "      <th>E</th>\n",
       "    </tr>\n",
       "  </thead>\n",
       "  <tbody>\n",
       "  </tbody>\n",
       "</table>\n",
       "</div>"
      ],
      "text/plain": [
       "Empty DataFrame\n",
       "Columns: [A, B, C, D, F, E]\n",
       "Index: []"
      ]
     },
     "execution_count": 60,
     "metadata": {},
     "output_type": "execute_result"
    }
   ],
   "source": [
    "df1.dropna(how=\"any\")"
   ]
  },
  {
   "cell_type": "code",
   "execution_count": 61,
   "id": "59aff6d8",
   "metadata": {},
   "outputs": [
    {
     "data": {
      "text/html": [
       "<div>\n",
       "<style scoped>\n",
       "    .dataframe tbody tr th:only-of-type {\n",
       "        vertical-align: middle;\n",
       "    }\n",
       "\n",
       "    .dataframe tbody tr th {\n",
       "        vertical-align: top;\n",
       "    }\n",
       "\n",
       "    .dataframe thead th {\n",
       "        text-align: right;\n",
       "    }\n",
       "</style>\n",
       "<table border=\"1\" class=\"dataframe\">\n",
       "  <thead>\n",
       "    <tr style=\"text-align: right;\">\n",
       "      <th></th>\n",
       "      <th>A</th>\n",
       "      <th>B</th>\n",
       "      <th>C</th>\n",
       "      <th>D</th>\n",
       "      <th>F</th>\n",
       "      <th>E</th>\n",
       "    </tr>\n",
       "  </thead>\n",
       "  <tbody>\n",
       "    <tr>\n",
       "      <th>2022-01-01</th>\n",
       "      <td>0.000000</td>\n",
       "      <td>0.000000</td>\n",
       "      <td>0.732387</td>\n",
       "      <td>5</td>\n",
       "      <td>5.0</td>\n",
       "      <td>1.0</td>\n",
       "    </tr>\n",
       "    <tr>\n",
       "      <th>2022-01-02</th>\n",
       "      <td>0.650595</td>\n",
       "      <td>0.651618</td>\n",
       "      <td>0.035792</td>\n",
       "      <td>5</td>\n",
       "      <td>5.0</td>\n",
       "      <td>1.0</td>\n",
       "    </tr>\n",
       "    <tr>\n",
       "      <th>2022-01-03</th>\n",
       "      <td>2.332927</td>\n",
       "      <td>0.866211</td>\n",
       "      <td>-0.539567</td>\n",
       "      <td>5</td>\n",
       "      <td>5.0</td>\n",
       "      <td>5.0</td>\n",
       "    </tr>\n",
       "    <tr>\n",
       "      <th>2022-01-04</th>\n",
       "      <td>-0.352783</td>\n",
       "      <td>0.000415</td>\n",
       "      <td>0.320556</td>\n",
       "      <td>5</td>\n",
       "      <td>5.0</td>\n",
       "      <td>5.0</td>\n",
       "    </tr>\n",
       "  </tbody>\n",
       "</table>\n",
       "</div>"
      ],
      "text/plain": [
       "                   A         B         C  D    F    E\n",
       "2022-01-01  0.000000  0.000000  0.732387  5  5.0  1.0\n",
       "2022-01-02  0.650595  0.651618  0.035792  5  5.0  1.0\n",
       "2022-01-03  2.332927  0.866211 -0.539567  5  5.0  5.0\n",
       "2022-01-04 -0.352783  0.000415  0.320556  5  5.0  5.0"
      ]
     },
     "execution_count": 61,
     "metadata": {},
     "output_type": "execute_result"
    }
   ],
   "source": [
    "df1.fillna(value=5)"
   ]
  },
  {
   "cell_type": "code",
   "execution_count": 62,
   "id": "2a212db8",
   "metadata": {},
   "outputs": [
    {
     "data": {
      "text/html": [
       "<div>\n",
       "<style scoped>\n",
       "    .dataframe tbody tr th:only-of-type {\n",
       "        vertical-align: middle;\n",
       "    }\n",
       "\n",
       "    .dataframe tbody tr th {\n",
       "        vertical-align: top;\n",
       "    }\n",
       "\n",
       "    .dataframe thead th {\n",
       "        text-align: right;\n",
       "    }\n",
       "</style>\n",
       "<table border=\"1\" class=\"dataframe\">\n",
       "  <thead>\n",
       "    <tr style=\"text-align: right;\">\n",
       "      <th></th>\n",
       "      <th>A</th>\n",
       "      <th>B</th>\n",
       "      <th>C</th>\n",
       "      <th>D</th>\n",
       "      <th>F</th>\n",
       "      <th>E</th>\n",
       "    </tr>\n",
       "  </thead>\n",
       "  <tbody>\n",
       "    <tr>\n",
       "      <th>2022-01-01</th>\n",
       "      <td>False</td>\n",
       "      <td>False</td>\n",
       "      <td>False</td>\n",
       "      <td>False</td>\n",
       "      <td>True</td>\n",
       "      <td>False</td>\n",
       "    </tr>\n",
       "    <tr>\n",
       "      <th>2022-01-02</th>\n",
       "      <td>False</td>\n",
       "      <td>False</td>\n",
       "      <td>False</td>\n",
       "      <td>False</td>\n",
       "      <td>True</td>\n",
       "      <td>False</td>\n",
       "    </tr>\n",
       "    <tr>\n",
       "      <th>2022-01-03</th>\n",
       "      <td>False</td>\n",
       "      <td>False</td>\n",
       "      <td>False</td>\n",
       "      <td>False</td>\n",
       "      <td>True</td>\n",
       "      <td>True</td>\n",
       "    </tr>\n",
       "    <tr>\n",
       "      <th>2022-01-04</th>\n",
       "      <td>False</td>\n",
       "      <td>False</td>\n",
       "      <td>False</td>\n",
       "      <td>False</td>\n",
       "      <td>True</td>\n",
       "      <td>True</td>\n",
       "    </tr>\n",
       "  </tbody>\n",
       "</table>\n",
       "</div>"
      ],
      "text/plain": [
       "                A      B      C      D     F      E\n",
       "2022-01-01  False  False  False  False  True  False\n",
       "2022-01-02  False  False  False  False  True  False\n",
       "2022-01-03  False  False  False  False  True   True\n",
       "2022-01-04  False  False  False  False  True   True"
      ]
     },
     "execution_count": 62,
     "metadata": {},
     "output_type": "execute_result"
    }
   ],
   "source": [
    "pd.isna(df1)"
   ]
  },
  {
   "cell_type": "markdown",
   "id": "91bfe778",
   "metadata": {},
   "source": [
    "## Operations"
   ]
  },
  {
   "cell_type": "code",
   "execution_count": 65,
   "id": "7cf14497",
   "metadata": {},
   "outputs": [
    {
     "data": {
      "text/html": [
       "<div>\n",
       "<style scoped>\n",
       "    .dataframe tbody tr th:only-of-type {\n",
       "        vertical-align: middle;\n",
       "    }\n",
       "\n",
       "    .dataframe tbody tr th {\n",
       "        vertical-align: top;\n",
       "    }\n",
       "\n",
       "    .dataframe thead th {\n",
       "        text-align: right;\n",
       "    }\n",
       "</style>\n",
       "<table border=\"1\" class=\"dataframe\">\n",
       "  <thead>\n",
       "    <tr style=\"text-align: right;\">\n",
       "      <th></th>\n",
       "      <th>one</th>\n",
       "      <th>two</th>\n",
       "      <th>three</th>\n",
       "    </tr>\n",
       "  </thead>\n",
       "  <tbody>\n",
       "    <tr>\n",
       "      <th>a</th>\n",
       "      <td>0.286367</td>\n",
       "      <td>-1.830330</td>\n",
       "      <td>NaN</td>\n",
       "    </tr>\n",
       "    <tr>\n",
       "      <th>b</th>\n",
       "      <td>-0.817257</td>\n",
       "      <td>-0.853601</td>\n",
       "      <td>0.456873</td>\n",
       "    </tr>\n",
       "    <tr>\n",
       "      <th>c</th>\n",
       "      <td>-0.150462</td>\n",
       "      <td>1.566086</td>\n",
       "      <td>-1.342931</td>\n",
       "    </tr>\n",
       "    <tr>\n",
       "      <th>d</th>\n",
       "      <td>NaN</td>\n",
       "      <td>-1.212645</td>\n",
       "      <td>-0.246103</td>\n",
       "    </tr>\n",
       "  </tbody>\n",
       "</table>\n",
       "</div>"
      ],
      "text/plain": [
       "        one       two     three\n",
       "a  0.286367 -1.830330       NaN\n",
       "b -0.817257 -0.853601  0.456873\n",
       "c -0.150462  1.566086 -1.342931\n",
       "d       NaN -1.212645 -0.246103"
      ]
     },
     "execution_count": 65,
     "metadata": {},
     "output_type": "execute_result"
    }
   ],
   "source": [
    "df = pd.DataFrame(\n",
    "    {\n",
    "        \"one\": pd.Series(np.random.randn(3), index=[\"a\", \"b\", \"c\"]),\n",
    "        \"two\": pd.Series(np.random.randn(4), index=[\"a\", \"b\", \"c\", \"d\"]),\n",
    "        \"three\": pd.Series(np.random.randn(3), index=[\"b\", \"c\", \"d\"]),\n",
    "    }\n",
    ")\n",
    "df"
   ]
  },
  {
   "cell_type": "code",
   "execution_count": 66,
   "id": "1bf9f059",
   "metadata": {},
   "outputs": [
    {
     "data": {
      "text/plain": [
       "one     -0.817257\n",
       "two     -0.853601\n",
       "three    0.456873\n",
       "Name: b, dtype: float64"
      ]
     },
     "execution_count": 66,
     "metadata": {},
     "output_type": "execute_result"
    }
   ],
   "source": [
    "row = df.iloc[1]\n",
    "row"
   ]
  },
  {
   "cell_type": "code",
   "execution_count": 67,
   "id": "2990e53f",
   "metadata": {},
   "outputs": [
    {
     "data": {
      "text/plain": [
       "a   -1.830330\n",
       "b   -0.853601\n",
       "c    1.566086\n",
       "d   -1.212645\n",
       "Name: two, dtype: float64"
      ]
     },
     "execution_count": 67,
     "metadata": {},
     "output_type": "execute_result"
    }
   ],
   "source": [
    "column = df[\"two\"]\n",
    "column"
   ]
  },
  {
   "cell_type": "code",
   "execution_count": 68,
   "id": "cf36d551",
   "metadata": {},
   "outputs": [
    {
     "data": {
      "text/html": [
       "<div>\n",
       "<style scoped>\n",
       "    .dataframe tbody tr th:only-of-type {\n",
       "        vertical-align: middle;\n",
       "    }\n",
       "\n",
       "    .dataframe tbody tr th {\n",
       "        vertical-align: top;\n",
       "    }\n",
       "\n",
       "    .dataframe thead th {\n",
       "        text-align: right;\n",
       "    }\n",
       "</style>\n",
       "<table border=\"1\" class=\"dataframe\">\n",
       "  <thead>\n",
       "    <tr style=\"text-align: right;\">\n",
       "      <th></th>\n",
       "      <th>one</th>\n",
       "      <th>two</th>\n",
       "      <th>three</th>\n",
       "    </tr>\n",
       "  </thead>\n",
       "  <tbody>\n",
       "    <tr>\n",
       "      <th>a</th>\n",
       "      <td>1.103623</td>\n",
       "      <td>-0.976730</td>\n",
       "      <td>NaN</td>\n",
       "    </tr>\n",
       "    <tr>\n",
       "      <th>b</th>\n",
       "      <td>0.000000</td>\n",
       "      <td>0.000000</td>\n",
       "      <td>0.000000</td>\n",
       "    </tr>\n",
       "    <tr>\n",
       "      <th>c</th>\n",
       "      <td>0.666795</td>\n",
       "      <td>2.419687</td>\n",
       "      <td>-1.799804</td>\n",
       "    </tr>\n",
       "    <tr>\n",
       "      <th>d</th>\n",
       "      <td>NaN</td>\n",
       "      <td>-0.359044</td>\n",
       "      <td>-0.702976</td>\n",
       "    </tr>\n",
       "  </tbody>\n",
       "</table>\n",
       "</div>"
      ],
      "text/plain": [
       "        one       two     three\n",
       "a  1.103623 -0.976730       NaN\n",
       "b  0.000000  0.000000  0.000000\n",
       "c  0.666795  2.419687 -1.799804\n",
       "d       NaN -0.359044 -0.702976"
      ]
     },
     "execution_count": 68,
     "metadata": {},
     "output_type": "execute_result"
    }
   ],
   "source": [
    "df.sub(row, axis=\"columns\")"
   ]
  },
  {
   "cell_type": "code",
   "execution_count": 69,
   "id": "53aae6f2",
   "metadata": {},
   "outputs": [
    {
     "data": {
      "text/html": [
       "<div>\n",
       "<style scoped>\n",
       "    .dataframe tbody tr th:only-of-type {\n",
       "        vertical-align: middle;\n",
       "    }\n",
       "\n",
       "    .dataframe tbody tr th {\n",
       "        vertical-align: top;\n",
       "    }\n",
       "\n",
       "    .dataframe thead th {\n",
       "        text-align: right;\n",
       "    }\n",
       "</style>\n",
       "<table border=\"1\" class=\"dataframe\">\n",
       "  <thead>\n",
       "    <tr style=\"text-align: right;\">\n",
       "      <th></th>\n",
       "      <th>one</th>\n",
       "      <th>two</th>\n",
       "      <th>three</th>\n",
       "    </tr>\n",
       "  </thead>\n",
       "  <tbody>\n",
       "    <tr>\n",
       "      <th>a</th>\n",
       "      <td>1.103623</td>\n",
       "      <td>-0.976730</td>\n",
       "      <td>NaN</td>\n",
       "    </tr>\n",
       "    <tr>\n",
       "      <th>b</th>\n",
       "      <td>0.000000</td>\n",
       "      <td>0.000000</td>\n",
       "      <td>0.000000</td>\n",
       "    </tr>\n",
       "    <tr>\n",
       "      <th>c</th>\n",
       "      <td>0.666795</td>\n",
       "      <td>2.419687</td>\n",
       "      <td>-1.799804</td>\n",
       "    </tr>\n",
       "    <tr>\n",
       "      <th>d</th>\n",
       "      <td>NaN</td>\n",
       "      <td>-0.359044</td>\n",
       "      <td>-0.702976</td>\n",
       "    </tr>\n",
       "  </tbody>\n",
       "</table>\n",
       "</div>"
      ],
      "text/plain": [
       "        one       two     three\n",
       "a  1.103623 -0.976730       NaN\n",
       "b  0.000000  0.000000  0.000000\n",
       "c  0.666795  2.419687 -1.799804\n",
       "d       NaN -0.359044 -0.702976"
      ]
     },
     "execution_count": 69,
     "metadata": {},
     "output_type": "execute_result"
    }
   ],
   "source": [
    "df.sub(row, axis=1)"
   ]
  },
  {
   "cell_type": "code",
   "execution_count": 70,
   "id": "fb11233f",
   "metadata": {},
   "outputs": [
    {
     "data": {
      "text/html": [
       "<div>\n",
       "<style scoped>\n",
       "    .dataframe tbody tr th:only-of-type {\n",
       "        vertical-align: middle;\n",
       "    }\n",
       "\n",
       "    .dataframe tbody tr th {\n",
       "        vertical-align: top;\n",
       "    }\n",
       "\n",
       "    .dataframe thead th {\n",
       "        text-align: right;\n",
       "    }\n",
       "</style>\n",
       "<table border=\"1\" class=\"dataframe\">\n",
       "  <thead>\n",
       "    <tr style=\"text-align: right;\">\n",
       "      <th></th>\n",
       "      <th>one</th>\n",
       "      <th>two</th>\n",
       "      <th>three</th>\n",
       "    </tr>\n",
       "  </thead>\n",
       "  <tbody>\n",
       "    <tr>\n",
       "      <th>a</th>\n",
       "      <td>2.116697</td>\n",
       "      <td>0.0</td>\n",
       "      <td>NaN</td>\n",
       "    </tr>\n",
       "    <tr>\n",
       "      <th>b</th>\n",
       "      <td>0.036344</td>\n",
       "      <td>0.0</td>\n",
       "      <td>1.310474</td>\n",
       "    </tr>\n",
       "    <tr>\n",
       "      <th>c</th>\n",
       "      <td>-1.716548</td>\n",
       "      <td>0.0</td>\n",
       "      <td>-2.909017</td>\n",
       "    </tr>\n",
       "    <tr>\n",
       "      <th>d</th>\n",
       "      <td>NaN</td>\n",
       "      <td>0.0</td>\n",
       "      <td>0.966541</td>\n",
       "    </tr>\n",
       "  </tbody>\n",
       "</table>\n",
       "</div>"
      ],
      "text/plain": [
       "        one  two     three\n",
       "a  2.116697  0.0       NaN\n",
       "b  0.036344  0.0  1.310474\n",
       "c -1.716548  0.0 -2.909017\n",
       "d       NaN  0.0  0.966541"
      ]
     },
     "execution_count": 70,
     "metadata": {},
     "output_type": "execute_result"
    }
   ],
   "source": [
    "df.sub(column, axis=\"index\")"
   ]
  },
  {
   "cell_type": "code",
   "execution_count": 71,
   "id": "c0d3ee52",
   "metadata": {},
   "outputs": [
    {
     "data": {
      "text/html": [
       "<div>\n",
       "<style scoped>\n",
       "    .dataframe tbody tr th:only-of-type {\n",
       "        vertical-align: middle;\n",
       "    }\n",
       "\n",
       "    .dataframe tbody tr th {\n",
       "        vertical-align: top;\n",
       "    }\n",
       "\n",
       "    .dataframe thead th {\n",
       "        text-align: right;\n",
       "    }\n",
       "</style>\n",
       "<table border=\"1\" class=\"dataframe\">\n",
       "  <thead>\n",
       "    <tr style=\"text-align: right;\">\n",
       "      <th></th>\n",
       "      <th>one</th>\n",
       "      <th>two</th>\n",
       "      <th>three</th>\n",
       "    </tr>\n",
       "  </thead>\n",
       "  <tbody>\n",
       "    <tr>\n",
       "      <th>a</th>\n",
       "      <td>2.116697</td>\n",
       "      <td>0.0</td>\n",
       "      <td>NaN</td>\n",
       "    </tr>\n",
       "    <tr>\n",
       "      <th>b</th>\n",
       "      <td>0.036344</td>\n",
       "      <td>0.0</td>\n",
       "      <td>1.310474</td>\n",
       "    </tr>\n",
       "    <tr>\n",
       "      <th>c</th>\n",
       "      <td>-1.716548</td>\n",
       "      <td>0.0</td>\n",
       "      <td>-2.909017</td>\n",
       "    </tr>\n",
       "    <tr>\n",
       "      <th>d</th>\n",
       "      <td>NaN</td>\n",
       "      <td>0.0</td>\n",
       "      <td>0.966541</td>\n",
       "    </tr>\n",
       "  </tbody>\n",
       "</table>\n",
       "</div>"
      ],
      "text/plain": [
       "        one  two     three\n",
       "a  2.116697  0.0       NaN\n",
       "b  0.036344  0.0  1.310474\n",
       "c -1.716548  0.0 -2.909017\n",
       "d       NaN  0.0  0.966541"
      ]
     },
     "execution_count": 71,
     "metadata": {},
     "output_type": "execute_result"
    }
   ],
   "source": [
    "df.sub(column, axis=0)"
   ]
  },
  {
   "cell_type": "code",
   "execution_count": null,
   "id": "187645ca",
   "metadata": {},
   "outputs": [],
   "source": []
  }
 ],
 "metadata": {
  "kernelspec": {
   "display_name": "Python 3 (ipykernel)",
   "language": "python",
   "name": "python3"
  },
  "language_info": {
   "codemirror_mode": {
    "name": "ipython",
    "version": 3
   },
   "file_extension": ".py",
   "mimetype": "text/x-python",
   "name": "python",
   "nbconvert_exporter": "python",
   "pygments_lexer": "ipython3",
   "version": "3.10.9"
  }
 },
 "nbformat": 4,
 "nbformat_minor": 5
}
